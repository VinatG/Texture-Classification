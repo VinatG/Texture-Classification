{
  "nbformat": 4,
  "nbformat_minor": 0,
  "metadata": {
    "colab": {
      "name": "BrodatzDataset.ipynb",
      "provenance": [],
      "collapsed_sections": []
    },
    "kernelspec": {
      "display_name": "Python 3",
      "name": "python3"
    },
    "language_info": {
      "name": "python"
    },
    "accelerator": "TPU"
  },
  "cells": [
    {
      "cell_type": "code",
      "metadata": {
        "colab": {
          "base_uri": "https://localhost:8080/"
        },
        "id": "KOVuOmsDYHpR",
        "outputId": "21b0edc5-7220-4354-cd69-ec1444af9913"
      },
      "source": [
        "from google.colab import drive\n",
        "drive.mount('/content/drive')"
      ],
      "execution_count": 4,
      "outputs": [
        {
          "output_type": "stream",
          "name": "stdout",
          "text": [
            "Mounted at /content/drive\n"
          ]
        }
      ]
    },
    {
      "cell_type": "code",
      "metadata": {
        "id": "4ttVv9AhBKtI"
      },
      "source": [
        "import os"
      ],
      "execution_count": 1,
      "outputs": []
    },
    {
      "cell_type": "code",
      "metadata": {
        "colab": {
          "base_uri": "https://localhost:8080/"
        },
        "id": "VXf5R8bnBcFw",
        "outputId": "4f8f0c42-2474-4e74-b679-cee5b9759ed3"
      },
      "source": [
        "%cd /content/drive/My Drive/Brodatz Dataset"
      ],
      "execution_count": 1,
      "outputs": [
        {
          "output_type": "stream",
          "name": "stdout",
          "text": [
            "/content/drive/My Drive/Brodatz Dataset\n"
          ]
        }
      ]
    },
    {
      "cell_type": "code",
      "metadata": {
        "colab": {
          "base_uri": "https://localhost:8080/"
        },
        "id": "mmh8t7wNKN9U",
        "outputId": "f57049dd-e4e0-41e3-8b01-1dc031c2d883"
      },
      "source": [
        "%ls"
      ],
      "execution_count": 2,
      "outputs": [
        {
          "output_type": "stream",
          "name": "stdout",
          "text": [
            "\u001b[0m\u001b[01;34mClass1\u001b[0m/    \u001b[01;34mClass25\u001b[0m/  \u001b[01;34mClass52\u001b[0m/  \u001b[01;34mClass8\u001b[0m/\n",
            "\u001b[01;34mClass10\u001b[0m/   \u001b[01;34mClass26\u001b[0m/  \u001b[01;34mClass53\u001b[0m/  \u001b[01;34mClass80\u001b[0m/\n",
            "\u001b[01;34mClass100\u001b[0m/  \u001b[01;34mClass27\u001b[0m/  \u001b[01;34mClass54\u001b[0m/  \u001b[01;34mClass81\u001b[0m/\n",
            "\u001b[01;34mClass101\u001b[0m/  \u001b[01;34mClass28\u001b[0m/  \u001b[01;34mClass55\u001b[0m/  \u001b[01;34mClass82\u001b[0m/\n",
            "\u001b[01;34mClass102\u001b[0m/  \u001b[01;34mClass29\u001b[0m/  \u001b[01;34mClass56\u001b[0m/  \u001b[01;34mClass83\u001b[0m/\n",
            "\u001b[01;34mClass103\u001b[0m/  \u001b[01;34mClass3\u001b[0m/   \u001b[01;34mClass57\u001b[0m/  \u001b[01;34mClass84\u001b[0m/\n",
            "\u001b[01;34mClass104\u001b[0m/  \u001b[01;34mClass30\u001b[0m/  \u001b[01;34mClass58\u001b[0m/  \u001b[01;34mClass85\u001b[0m/\n",
            "\u001b[01;34mClass105\u001b[0m/  \u001b[01;34mClass31\u001b[0m/  \u001b[01;34mClass59\u001b[0m/  \u001b[01;34mClass86\u001b[0m/\n",
            "\u001b[01;34mClass106\u001b[0m/  \u001b[01;34mClass32\u001b[0m/  \u001b[01;34mClass6\u001b[0m/   \u001b[01;34mClass87\u001b[0m/\n",
            "\u001b[01;34mClass107\u001b[0m/  \u001b[01;34mClass33\u001b[0m/  \u001b[01;34mClass60\u001b[0m/  \u001b[01;34mClass88\u001b[0m/\n",
            "\u001b[01;34mClass108\u001b[0m/  \u001b[01;34mClass34\u001b[0m/  \u001b[01;34mClass61\u001b[0m/  \u001b[01;34mClass89\u001b[0m/\n",
            "\u001b[01;34mClass109\u001b[0m/  \u001b[01;34mClass35\u001b[0m/  \u001b[01;34mClass62\u001b[0m/  \u001b[01;34mClass9\u001b[0m/\n",
            "\u001b[01;34mClass11\u001b[0m/   \u001b[01;34mClass36\u001b[0m/  \u001b[01;34mClass63\u001b[0m/  \u001b[01;34mClass90\u001b[0m/\n",
            "\u001b[01;34mClass110\u001b[0m/  \u001b[01;34mClass37\u001b[0m/  \u001b[01;34mClass64\u001b[0m/  \u001b[01;34mClass91\u001b[0m/\n",
            "\u001b[01;34mClass111\u001b[0m/  \u001b[01;34mClass38\u001b[0m/  \u001b[01;34mClass65\u001b[0m/  \u001b[01;34mClass92\u001b[0m/\n",
            "\u001b[01;34mClass112\u001b[0m/  \u001b[01;34mClass39\u001b[0m/  \u001b[01;34mClass66\u001b[0m/  \u001b[01;34mClass93\u001b[0m/\n",
            "\u001b[01;34mClass12\u001b[0m/   \u001b[01;34mClass4\u001b[0m/   \u001b[01;34mClass67\u001b[0m/  \u001b[01;34mClass94\u001b[0m/\n",
            "\u001b[01;34mClass13\u001b[0m/   \u001b[01;34mClass40\u001b[0m/  \u001b[01;34mClass68\u001b[0m/  \u001b[01;34mClass95\u001b[0m/\n",
            "\u001b[01;34mClass14\u001b[0m/   \u001b[01;34mClass41\u001b[0m/  \u001b[01;34mClass69\u001b[0m/  \u001b[01;34mClass96\u001b[0m/\n",
            "\u001b[01;34mClass15\u001b[0m/   \u001b[01;34mClass42\u001b[0m/  \u001b[01;34mClass7\u001b[0m/   \u001b[01;34mClass97\u001b[0m/\n",
            "\u001b[01;34mClass16\u001b[0m/   \u001b[01;34mClass43\u001b[0m/  \u001b[01;34mClass70\u001b[0m/  \u001b[01;34mClass98\u001b[0m/\n",
            "\u001b[01;34mClass17\u001b[0m/   \u001b[01;34mClass44\u001b[0m/  \u001b[01;34mClass71\u001b[0m/  \u001b[01;34mClass99\u001b[0m/\n",
            "\u001b[01;34mClass18\u001b[0m/   \u001b[01;34mClass45\u001b[0m/  \u001b[01;34mClass72\u001b[0m/  ConfusionMatrixInceptionV3_10epochs_Brodatz.png\n",
            "\u001b[01;34mClass19\u001b[0m/   \u001b[01;34mClass46\u001b[0m/  \u001b[01;34mClass73\u001b[0m/  ConfusionMatrixMobileNetV3_10epochs_Brodatz.png\n",
            "\u001b[01;34mClass2\u001b[0m/    \u001b[01;34mClass47\u001b[0m/  \u001b[01;34mClass74\u001b[0m/  \u001b[01;34mInceptionV3_Brodatz_10epochs\u001b[0m/\n",
            "\u001b[01;34mClass20\u001b[0m/   \u001b[01;34mClass48\u001b[0m/  \u001b[01;34mClass75\u001b[0m/  \u001b[01;34mMobileNetV3_Brodatz_10epochs\u001b[0m/\n",
            "\u001b[01;34mClass21\u001b[0m/   \u001b[01;34mClass49\u001b[0m/  \u001b[01;34mClass76\u001b[0m/  PlotAccuracyInceptionV3_10epochs_Brodatz.png\n",
            "\u001b[01;34mClass22\u001b[0m/   \u001b[01;34mClass5\u001b[0m/   \u001b[01;34mClass77\u001b[0m/  PlotAccuracyMobileNetV3_10epochs_Brodatz.png\n",
            "\u001b[01;34mClass23\u001b[0m/   \u001b[01;34mClass50\u001b[0m/  \u001b[01;34mClass78\u001b[0m/  PlotLossesInceptionV3_10epochs_Brodatz.png\n",
            "\u001b[01;34mClass24\u001b[0m/   \u001b[01;34mClass51\u001b[0m/  \u001b[01;34mClass79\u001b[0m/  PlotLossesMobileNetV3_10epochs_Brodatz.png\n"
          ]
        }
      ]
    },
    {
      "cell_type": "code",
      "metadata": {
        "id": "fyRNd8c6PdHK"
      },
      "source": [
        "import cv2\n",
        "from glob import glob\n",
        "from matplotlib import image as img\n"
      ],
      "execution_count": 3,
      "outputs": []
    },
    {
      "cell_type": "code",
      "metadata": {
        "id": "Lj5cm_WKPdJo"
      },
      "source": [
        "images, labels = [], []"
      ],
      "execution_count": 4,
      "outputs": []
    },
    {
      "cell_type": "code",
      "metadata": {
        "id": "opZh7uiSPdMQ"
      },
      "source": [
        "paths={}\n",
        "for i in range(112):\n",
        "  paths[i]='Class'+str((i+1))\n"
      ],
      "execution_count": 5,
      "outputs": []
    },
    {
      "cell_type": "code",
      "metadata": {
        "id": "JUfA-ejxPdQt"
      },
      "source": [
        "for i in range(112):\n",
        "  g=glob(paths[i]+'/*.png')\n",
        "  for image_path in g:  \n",
        "    try:\n",
        "        image = cv2.imread(image_path)\n",
        "        image = cv2.resize(image, (224, 224)) # default values\n",
        "        image = cv2.cvtColor(image, cv2.COLOR_BGR2RGB) # converting to RGB\n",
        "        images.append(image)\n",
        "        labels.append(i)\n",
        "    except:\n",
        "        print(image_path)\n",
        " "
      ],
      "execution_count": 6,
      "outputs": []
    },
    {
      "cell_type": "code",
      "metadata": {
        "colab": {
          "base_uri": "https://localhost:8080/"
        },
        "id": "qocOlU_bPdTK",
        "outputId": "7c129227-b937-4a14-fcde-075a77ded884"
      },
      "source": [
        "print(len(images))\n",
        "print(len(labels))"
      ],
      "execution_count": 7,
      "outputs": [
        {
          "output_type": "stream",
          "name": "stdout",
          "text": [
            "4480\n",
            "4480\n"
          ]
        }
      ]
    },
    {
      "cell_type": "code",
      "metadata": {
        "colab": {
          "base_uri": "https://localhost:8080/"
        },
        "id": "fKSNB7X5PdbG",
        "outputId": "f05a409d-f134-4628-fd15-90d02019c245"
      },
      "source": [
        "import numpy as np\n",
        "data = np.array(images)\n",
        "labels = np.array(labels)\n",
        "X_train=data\n",
        "print(X_train.shape)\n"
      ],
      "execution_count": 8,
      "outputs": [
        {
          "output_type": "stream",
          "name": "stdout",
          "text": [
            "(4480, 224, 224, 3)\n"
          ]
        }
      ]
    },
    {
      "cell_type": "code",
      "metadata": {
        "id": "_RC8Oq2Dixtb"
      },
      "source": [
        "from tensorflow.keras.utils import to_categorical\n",
        "labels = to_categorical(labels, num_classes = 112)\n"
      ],
      "execution_count": 9,
      "outputs": []
    },
    {
      "cell_type": "code",
      "metadata": {
        "colab": {
          "base_uri": "https://localhost:8080/"
        },
        "id": "M1WfRnbRkKH9",
        "outputId": "49de0812-7780-4c49-d9c0-1c934cc1a584"
      },
      "source": [
        "labels.shape"
      ],
      "execution_count": 10,
      "outputs": [
        {
          "output_type": "execute_result",
          "data": {
            "text/plain": [
              "(4480, 112)"
            ]
          },
          "metadata": {},
          "execution_count": 10
        }
      ]
    },
    {
      "cell_type": "code",
      "metadata": {
        "colab": {
          "base_uri": "https://localhost:8080/"
        },
        "id": "Bx79Rbm6kKLJ",
        "outputId": "c194dd6a-dd8c-41a9-b458-ce98b6ca33a3"
      },
      "source": [
        "# splitting training and testing data\n",
        "from sklearn.model_selection import train_test_split\n",
        "X_train, X_test, y_train, y_test = train_test_split(data, labels,test_size = 0.2,random_state = 101,shuffle = True)\n",
        "print('training:')\n",
        "print(X_train.shape)\n",
        "print(y_train.shape)\n",
        "print('testing:')\n",
        "print(X_test.shape)\n",
        "print(y_test.shape)"
      ],
      "execution_count": 11,
      "outputs": [
        {
          "output_type": "stream",
          "name": "stdout",
          "text": [
            "training:\n",
            "(3584, 224, 224, 3)\n",
            "(3584, 112)\n",
            "testing:\n",
            "(896, 224, 224, 3)\n",
            "(896, 112)\n"
          ]
        }
      ]
    },
    {
      "cell_type": "code",
      "metadata": {
        "id": "ZHcJty83PdiS"
      },
      "source": [
        "X_train=X_train/255"
      ],
      "execution_count": 12,
      "outputs": []
    },
    {
      "cell_type": "code",
      "metadata": {
        "id": "eYfB3j15Pdkv"
      },
      "source": [
        "X_test=X_test/255"
      ],
      "execution_count": 13,
      "outputs": []
    },
    {
      "cell_type": "code",
      "metadata": {
        "id": "HjkciUoyPdmu"
      },
      "source": [
        "from tensorflow.keras.preprocessing.image import ImageDataGenerator\n",
        "datagenerator = ImageDataGenerator(horizontal_flip = True, vertical_flip = True)\n",
        "augmented_training_data = datagenerator.flow(X_train, y_train, batch_size = 32,shuffle=False)"
      ],
      "execution_count": 17,
      "outputs": []
    },
    {
      "cell_type": "code",
      "metadata": {
        "id": "FhEgJfVZTW9r"
      },
      "source": [
        "import tensorflow as tf\n",
        "import tensorflow_hub as hub\n",
        "feature_extractor_model = 'https://tfhub.dev/google/imagenet/inception_v3/classification/4'\n",
        "#feature_extractor_model = 'https://tfhub.dev/google/imagenet/mobilenet_v3_small_100_224/classification/5'\n",
        "\n",
        "pretrained_model_without_top_layer = hub.KerasLayer(\n",
        "    feature_extractor_model, input_shape=(224, 224, 3), trainable=False)\n"
      ],
      "execution_count": 30,
      "outputs": []
    },
    {
      "cell_type": "code",
      "metadata": {
        "id": "nUrqbuFdPzNM",
        "colab": {
          "base_uri": "https://localhost:8080/"
        },
        "outputId": "09a1fd08-8b8f-4991-f1b1-0111b7c2c2da"
      },
      "source": [
        "num_of_classes=112\n",
        "\n",
        "model = tf.keras.Sequential([\n",
        "  pretrained_model_without_top_layer,\n",
        "  tf.keras.layers.Dense(num_of_classes)\n",
        "])\n",
        "\n",
        "model.summary()"
      ],
      "execution_count": 31,
      "outputs": [
        {
          "output_type": "stream",
          "name": "stdout",
          "text": [
            "Model: \"sequential_1\"\n",
            "_________________________________________________________________\n",
            " Layer (type)                Output Shape              Param #   \n",
            "=================================================================\n",
            " keras_layer_1 (KerasLayer)  (None, 1001)              23853833  \n",
            "                                                                 \n",
            " dense_1 (Dense)             (None, 112)               112224    \n",
            "                                                                 \n",
            "=================================================================\n",
            "Total params: 23,966,057\n",
            "Trainable params: 112,224\n",
            "Non-trainable params: 23,853,833\n",
            "_________________________________________________________________\n"
          ]
        }
      ]
    },
    {
      "cell_type": "code",
      "metadata": {
        "id": "PW6tyQf4PzP0",
        "colab": {
          "base_uri": "https://localhost:8080/"
        },
        "outputId": "d337a04b-0dbc-454a-9d82-3085f7f3fb10"
      },
      "source": [
        "model.compile(\n",
        "  optimizer=\"adam\",\n",
        "  loss=tf.keras.losses.CategoricalCrossentropy(from_logits=True),\n",
        "  metrics=['acc'])\n",
        "#history=model.fit(X_train,y_train,epochs=10)\n",
        "history = model.fit_generator(augmented_training_data, epochs =10)"
      ],
      "execution_count": 32,
      "outputs": [
        {
          "output_type": "stream",
          "name": "stdout",
          "text": [
            "Epoch 1/10\n"
          ]
        },
        {
          "output_type": "stream",
          "name": "stderr",
          "text": [
            "/usr/local/lib/python3.7/dist-packages/ipykernel_launcher.py:6: UserWarning: `Model.fit_generator` is deprecated and will be removed in a future version. Please use `Model.fit`, which supports generators.\n",
            "  \n"
          ]
        },
        {
          "output_type": "stream",
          "name": "stdout",
          "text": [
            "112/112 [==============================] - 379s 3s/step - loss: 1.6614 - acc: 0.6643\n",
            "Epoch 2/10\n",
            "112/112 [==============================] - 374s 3s/step - loss: 0.1749 - acc: 0.9629\n",
            "Epoch 3/10\n",
            "112/112 [==============================] - 374s 3s/step - loss: 0.1012 - acc: 0.9785\n",
            "Epoch 4/10\n",
            "112/112 [==============================] - 375s 3s/step - loss: 0.0614 - acc: 0.9886\n",
            "Epoch 5/10\n",
            "112/112 [==============================] - 374s 3s/step - loss: 0.0457 - acc: 0.9902\n",
            "Epoch 6/10\n",
            "112/112 [==============================] - 378s 3s/step - loss: 0.0341 - acc: 0.9933\n",
            "Epoch 7/10\n",
            "112/112 [==============================] - 375s 3s/step - loss: 0.0293 - acc: 0.9939\n",
            "Epoch 8/10\n",
            "112/112 [==============================] - 380s 3s/step - loss: 0.0245 - acc: 0.9953\n",
            "Epoch 9/10\n",
            "112/112 [==============================] - 378s 3s/step - loss: 0.0161 - acc: 0.9978\n",
            "Epoch 10/10\n",
            "112/112 [==============================] - 380s 3s/step - loss: 0.0117 - acc: 0.9994\n"
          ]
        }
      ]
    },
    {
      "cell_type": "code",
      "metadata": {
        "id": "ijdbf6mOPzSe",
        "colab": {
          "base_uri": "https://localhost:8080/"
        },
        "outputId": "0c82875e-106f-4820-f668-e1bbcb0ce85d"
      },
      "source": [
        "model.evaluate(X_test,y_test)   "
      ],
      "execution_count": 33,
      "outputs": [
        {
          "output_type": "stream",
          "name": "stdout",
          "text": [
            "28/28 [==============================] - 95s 3s/step - loss: 0.0270 - acc: 0.9933\n"
          ]
        },
        {
          "output_type": "execute_result",
          "data": {
            "text/plain": [
              "[0.027022698894143105, 0.9933035969734192]"
            ]
          },
          "metadata": {},
          "execution_count": 33
        }
      ]
    },
    {
      "cell_type": "code",
      "metadata": {
        "id": "tBwqTgD2PzUu",
        "colab": {
          "base_uri": "https://localhost:8080/"
        },
        "outputId": "ccdac0a0-aef2-4676-ad87-5578ea4bad11"
      },
      "source": [
        "model.save('InceptionV3_Brodatz_10epochs')"
      ],
      "execution_count": 34,
      "outputs": [
        {
          "output_type": "stream",
          "name": "stdout",
          "text": [
            "INFO:tensorflow:Assets written to: InceptionV3_Brodatz_10epochs/assets\n"
          ]
        },
        {
          "output_type": "stream",
          "name": "stderr",
          "text": [
            "INFO:tensorflow:Assets written to: InceptionV3_Brodatz_10epochs/assets\n"
          ]
        }
      ]
    },
    {
      "cell_type": "code",
      "metadata": {
        "id": "wCQ4jYOKPzXT",
        "colab": {
          "base_uri": "https://localhost:8080/",
          "height": 279
        },
        "outputId": "fdb00926-0298-4dcd-9331-c80a7459619a"
      },
      "source": [
        "# plotting the graphs of epoch, accuracy and loss\n",
        "\n",
        "import matplotlib.pyplot as plt\n",
        "plt.plot(history.epoch, history.history['acc'], color = 'green')\n",
        "plt.xlabel('Epoch Number')\n",
        "plt.ylabel('Accuracy')\n",
        "fig1 = plt.gcf()\n",
        "plt.show()\n",
        "fig1.savefig('PlotAccuracyInceptionV3_10epochs_Brodatz',dpi=100)\n"
      ],
      "execution_count": 35,
      "outputs": [
        {
          "output_type": "display_data",
          "data": {
            "image/png": "[encoded data removed]",
            "text/plain": [
              "<Figure size 432x288 with 1 Axes>"
            ]
          },
          "metadata": {
            "needs_background": "light"
          }
        }
      ]
    },
    {
      "cell_type": "code",
      "metadata": {
        "id": "X3JJ_D8DPzZP",
        "colab": {
          "base_uri": "https://localhost:8080/",
          "height": 279
        },
        "outputId": "1ab7c6b6-ba77-4faa-fa42-8f4a6cd5ddea"
      },
      "source": [
        "# plotting the losses\n",
        "plt.plot(history.epoch, history.history['loss'], color = 'green')\n",
        "plt.xlabel('Epoch Number')\n",
        "plt.ylabel('loss')\n",
        "fig1 = plt.gcf()\n",
        "plt.show()\n",
        "fig1.savefig('PlotLossesInceptionV3_10epochs_Brodatz',dpi=100)\n"
      ],
      "execution_count": 36,
      "outputs": [
        {
          "output_type": "display_data",
          "data": {
            "image/png": "[encoded data removed]",
            "text/plain": [
              "<Figure size 432x288 with 1 Axes>"
            ]
          },
          "metadata": {
            "needs_background": "light"
          }
        }
      ]
    },
    {
      "cell_type": "code",
      "metadata": {
        "id": "DOecHq4uP8RD"
      },
      "source": [
        "# confusion matrix\n",
        "from sklearn.metrics import confusion_matrix\n",
        "\n",
        "y_true = np.argmax(y_test, axis = 1) # decoding\n",
        "\n",
        "predict_x=model.predict(X_test) \n",
        "predicted_classes=np.argmax(predict_x,axis=1)\n",
        "\n",
        "\n",
        "confusion_mat = confusion_matrix(y_true, predicted_classes)"
      ],
      "execution_count": 37,
      "outputs": []
    },
    {
      "cell_type": "code",
      "metadata": {
        "id": "Tw4edYHFP8VP",
        "colab": {
          "base_uri": "https://localhost:8080/",
          "height": 278
        },
        "outputId": "09eaa35c-234f-41ba-abb8-c2bdc56b8e93"
      },
      "source": [
        "import seaborn as sns\n",
        "sns.heatmap(confusion_mat, annot = True)\n",
        "fig1 = plt.gcf()\n",
        "plt.show()"
      ],
      "execution_count": 38,
      "outputs": [
        {
          "output_type": "display_data",
          "data": {
            "image/png": "[encoded data removed]",
            "text/plain": [
              "<Figure size 432x288 with 2 Axes>"
            ]
          },
          "metadata": {
            "needs_background": "light"
          }
        }
      ]
    },
    {
      "cell_type": "code",
      "metadata": {
        "id": "OjLpWAon-zgl"
      },
      "source": [
        "fig1.savefig('ConfusionMatrixInceptionV3_10epochs_Brodatz',dpi=100)"
      ],
      "execution_count": 25,
      "outputs": []
    },
    {
      "cell_type": "code",
      "metadata": {
        "id": "DPwCk8ziP8a_"
      },
      "source": [
        "Y_pred = model.predict(X_test)\n",
        "y_pred = np.argmax(Y_pred, axis=1)"
      ],
      "execution_count": 26,
      "outputs": []
    },
    {
      "cell_type": "code",
      "metadata": {
        "id": "G3-QVTnJP88X"
      },
      "source": [
        "from sklearn.metrics import classification_report"
      ],
      "execution_count": 27,
      "outputs": []
    },
    {
      "cell_type": "code",
      "metadata": {
        "id": "JqmIpuXtRoKJ"
      },
      "source": [
        "target_names = []\n",
        "for i in range(112):\n",
        "  target_names.append('Class'+str(i+1))"
      ],
      "execution_count": 28,
      "outputs": []
    },
    {
      "cell_type": "code",
      "metadata": {
        "colab": {
          "base_uri": "https://localhost:8080/"
        },
        "id": "lsrF4DDTP8-7",
        "outputId": "f8246599-6bee-4232-8e65-064d78bb20f6"
      },
      "source": [
        "print('Classification Report')\n",
        "print(classification_report(y_true, y_pred, target_names=target_names))\n"
      ],
      "execution_count": 29,
      "outputs": [
        {
          "output_type": "stream",
          "name": "stdout",
          "text": [
            "Classification Report\n",
            "              precision    recall  f1-score   support\n",
            "\n",
            "      Class1       1.00      1.00      1.00         7\n",
            "      Class2       1.00      1.00      1.00        16\n",
            "      Class3       1.00      1.00      1.00         7\n",
            "      Class4       0.77      1.00      0.87        10\n",
            "      Class5       1.00      1.00      1.00         8\n",
            "      Class6       1.00      1.00      1.00         9\n",
            "      Class7       1.00      1.00      1.00         8\n",
            "      Class8       1.00      1.00      1.00         7\n",
            "      Class9       1.00      1.00      1.00         8\n",
            "     Class10       1.00      1.00      1.00         7\n",
            "     Class11       1.00      1.00      1.00         5\n",
            "     Class12       1.00      1.00      1.00         7\n",
            "     Class13       1.00      1.00      1.00         8\n",
            "     Class14       1.00      1.00      1.00         5\n",
            "     Class15       1.00      1.00      1.00         8\n",
            "     Class16       1.00      1.00      1.00         6\n",
            "     Class17       1.00      1.00      1.00        10\n",
            "     Class18       1.00      1.00      1.00         1\n",
            "     Class19       1.00      1.00      1.00         6\n",
            "     Class20       1.00      1.00      1.00         9\n",
            "     Class21       1.00      1.00      1.00         8\n",
            "     Class22       1.00      1.00      1.00         6\n",
            "     Class23       1.00      1.00      1.00        13\n",
            "     Class24       1.00      0.92      0.96        12\n",
            "     Class25       1.00      1.00      1.00         3\n",
            "     Class26       1.00      1.00      1.00         7\n",
            "     Class27       1.00      1.00      1.00         6\n",
            "     Class28       1.00      1.00      1.00         9\n",
            "     Class29       1.00      1.00      1.00         7\n",
            "     Class30       1.00      1.00      1.00         9\n",
            "     Class31       1.00      1.00      1.00         8\n",
            "     Class32       1.00      1.00      1.00        10\n",
            "     Class33       1.00      1.00      1.00         6\n",
            "     Class34       1.00      1.00      1.00         8\n",
            "     Class35       1.00      1.00      1.00         4\n",
            "     Class36       1.00      1.00      1.00         6\n",
            "     Class37       1.00      1.00      1.00         6\n",
            "     Class38       1.00      1.00      1.00         6\n",
            "     Class39       1.00      1.00      1.00         9\n",
            "     Class40       1.00      1.00      1.00         9\n",
            "     Class41       1.00      1.00      1.00        12\n",
            "     Class42       1.00      1.00      1.00        11\n",
            "     Class43       1.00      1.00      1.00        11\n",
            "     Class44       1.00      1.00      1.00         8\n",
            "     Class45       1.00      1.00      1.00         8\n",
            "     Class46       1.00      1.00      1.00         6\n",
            "     Class47       1.00      1.00      1.00        11\n",
            "     Class48       1.00      1.00      1.00        12\n",
            "     Class49       1.00      1.00      1.00         7\n",
            "     Class50       1.00      1.00      1.00        13\n",
            "     Class51       1.00      1.00      1.00         9\n",
            "     Class52       1.00      1.00      1.00         9\n",
            "     Class53       1.00      1.00      1.00         7\n",
            "     Class54       1.00      1.00      1.00         8\n",
            "     Class55       1.00      1.00      1.00         9\n",
            "     Class56       1.00      1.00      1.00         9\n",
            "     Class57       1.00      1.00      1.00         7\n",
            "     Class58       1.00      1.00      1.00         9\n",
            "     Class59       1.00      1.00      1.00         7\n",
            "     Class60       1.00      1.00      1.00         7\n",
            "     Class61       1.00      1.00      1.00        13\n",
            "     Class62       1.00      1.00      1.00         3\n",
            "     Class63       1.00      1.00      1.00         8\n",
            "     Class64       1.00      1.00      1.00        11\n",
            "     Class65       1.00      1.00      1.00         9\n",
            "     Class66       1.00      1.00      1.00         7\n",
            "     Class67       1.00      1.00      1.00         8\n",
            "     Class68       1.00      1.00      1.00         5\n",
            "     Class69       1.00      1.00      1.00        11\n",
            "     Class70       1.00      1.00      1.00         8\n",
            "     Class71       1.00      1.00      1.00         7\n",
            "     Class72       1.00      1.00      1.00         5\n",
            "     Class73       1.00      1.00      1.00         3\n",
            "     Class74       1.00      1.00      1.00         9\n",
            "     Class75       1.00      1.00      1.00         8\n",
            "     Class76       1.00      1.00      1.00         7\n",
            "     Class77       1.00      1.00      1.00         6\n",
            "     Class78       1.00      1.00      1.00         9\n",
            "     Class79       1.00      1.00      1.00        12\n",
            "     Class80       1.00      0.75      0.86         8\n",
            "     Class81       1.00      1.00      1.00         8\n",
            "     Class82       1.00      1.00      1.00        11\n",
            "     Class83       1.00      1.00      1.00         8\n",
            "     Class84       1.00      1.00      1.00         9\n",
            "     Class85       1.00      1.00      1.00         7\n",
            "     Class86       1.00      1.00      1.00         6\n",
            "     Class87       1.00      1.00      1.00         5\n",
            "     Class88       1.00      1.00      1.00         6\n",
            "     Class89       1.00      1.00      1.00         2\n",
            "     Class90       1.00      1.00      1.00        14\n",
            "     Class91       1.00      1.00      1.00        13\n",
            "     Class92       1.00      1.00      1.00         6\n",
            "     Class93       1.00      1.00      1.00        11\n",
            "     Class94       1.00      1.00      1.00         8\n",
            "     Class95       1.00      1.00      1.00        10\n",
            "     Class96       1.00      1.00      1.00        10\n",
            "     Class97       1.00      1.00      1.00         8\n",
            "     Class98       1.00      1.00      1.00         9\n",
            "     Class99       1.00      1.00      1.00         8\n",
            "    Class100       1.00      1.00      1.00         9\n",
            "    Class101       1.00      1.00      1.00         6\n",
            "    Class102       1.00      1.00      1.00         7\n",
            "    Class103       1.00      1.00      1.00         7\n",
            "    Class104       1.00      1.00      1.00        10\n",
            "    Class105       1.00      1.00      1.00         7\n",
            "    Class106       1.00      1.00      1.00         2\n",
            "    Class107       1.00      1.00      1.00         8\n",
            "    Class108       1.00      1.00      1.00         4\n",
            "    Class109       1.00      1.00      1.00         7\n",
            "    Class110       1.00      1.00      1.00         8\n",
            "    Class111       1.00      1.00      1.00        10\n",
            "    Class112       1.00      1.00      1.00        11\n",
            "\n",
            "    accuracy                           1.00       896\n",
            "   macro avg       1.00      1.00      1.00       896\n",
            "weighted avg       1.00      1.00      1.00       896\n",
            "\n"
          ]
        }
      ]
    },
    {
      "cell_type": "code",
      "metadata": {
        "id": "fD1htGMP99MV"
      },
      "source": [
        ""
      ],
      "execution_count": null,
      "outputs": []
    }
  ]
}