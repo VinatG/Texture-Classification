{
  "nbformat": 4,
  "nbformat_minor": 0,
  "metadata": {
    "colab": {
      "name": "Preparing_Brodatz.ipynb",
      "provenance": []
    },
    "kernelspec": {
      "name": "python3",
      "display_name": "Python 3"
    },
    "language_info": {
      "name": "python"
    }
  },
  "cells": [
    {
      "cell_type": "code",
      "metadata": {
        "colab": {
          "base_uri": "https://localhost:8080/"
        },
        "id": "ybGbM9khsQUh",
        "outputId": "69d9fb50-5184-416d-d716-ec51051a4880"
      },
      "source": [
        "from google.colab import drive\n",
        "drive.mount('/content/drive')"
      ],
      "execution_count": 2,
      "outputs": [
        {
          "output_type": "stream",
          "name": "stdout",
          "text": [
            "Mounted at /content/drive\n"
          ]
        }
      ]
    },
    {
      "cell_type": "code",
      "metadata": {
        "colab": {
          "base_uri": "https://localhost:8080/"
        },
        "id": "AILEOT-18zTX",
        "outputId": "3a9043f2-0202-4b70-fc66-82126dc58072"
      },
      "source": [
        "%cd /content/drive/My Drive/Original Brodatz"
      ],
      "execution_count": 3,
      "outputs": [
        {
          "output_type": "stream",
          "name": "stdout",
          "text": [
            "/content/drive/My Drive/Original Brodatz\n"
          ]
        }
      ]
    },
    {
      "cell_type": "code",
      "metadata": {
        "id": "GzXDzZWDTTm3",
        "colab": {
          "base_uri": "https://localhost:8080/"
        },
        "outputId": "6290aa6d-d9cb-4a9c-c562-64fa7d17712d"
      },
      "source": [
        "!ls"
      ],
      "execution_count": 4,
      "outputs": [
        {
          "output_type": "stream",
          "name": "stdout",
          "text": [
            "D100.gif  D11.gif  D24.gif  D37.gif  D4.gif   D62.gif  D75.gif\tD88.gif\n",
            "D101.gif  D12.gif  D25.gif  D38.gif  D50.gif  D63.gif  D76.gif\tD89.gif\n",
            "D102.gif  D13.gif  D26.gif  D39.gif  D51.gif  D64.gif  D77.gif\tD8.gif\n",
            "D103.gif  D14.gif  D27.gif  D3.gif   D52.gif  D65.gif  D78.gif\tD90.gif\n",
            "D104.gif  D15.gif  D28.gif  D40.gif  D53.gif  D66.gif  D79.gif\tD91.gif\n",
            "D105.gif  D16.gif  D29.gif  D41.gif  D54.gif  D67.gif  D7.gif\tD92.gif\n",
            "D106.gif  D17.gif  D2.gif   D42.gif  D55.gif  D68.gif  D80.gif\tD93.gif\n",
            "D107.gif  D18.gif  D30.gif  D43.gif  D56.gif  D69.gif  D81.gif\tD94.gif\n",
            "D108.gif  D19.gif  D31.gif  D44.gif  D57.gif  D6.gif   D82.gif\tD95.gif\n",
            "D109.gif  D1.gif   D32.gif  D45.gif  D58.gif  D70.gif  D83.gif\tD96.gif\n",
            "D10.gif   D20.gif  D33.gif  D46.gif  D59.gif  D71.gif  D84.gif\tD97.gif\n",
            "D110.gif  D21.gif  D34.gif  D47.gif  D5.gif   D72.gif  D85.gif\tD98.gif\n",
            "D111.gif  D22.gif  D35.gif  D48.gif  D60.gif  D73.gif  D86.gif\tD99.gif\n",
            "D112.gif  D23.gif  D36.gif  D49.gif  D61.gif  D74.gif  D87.gif\tD9.gif\n"
          ]
        }
      ]
    },
    {
      "cell_type": "code",
      "metadata": {
        "id": "cOtB29Bo3ugT"
      },
      "source": [
        "images=[]\n",
        "labels=[]"
      ],
      "execution_count": 13,
      "outputs": []
    },
    {
      "cell_type": "code",
      "metadata": {
        "id": "QVylQrrM9aAP"
      },
      "source": [
        "import cv2\n",
        "from glob import glob\n",
        "from matplotlib import image as img"
      ],
      "execution_count": 14,
      "outputs": []
    },
    {
      "cell_type": "code",
      "metadata": {
        "id": "dUvdd7LI8BxL"
      },
      "source": [
        "paths={}\n",
        "for i in range(0,112):\n",
        "  paths[i]='D'+str((i+1))\n"
      ],
      "execution_count": 15,
      "outputs": []
    },
    {
      "cell_type": "code",
      "metadata": {
        "id": "rU25IGiL72pf"
      },
      "source": [
        "import os\n",
        "    "
      ],
      "execution_count": 16,
      "outputs": []
    },
    {
      "cell_type": "code",
      "metadata": {
        "id": "Fe1QJUe9s0AV"
      },
      "source": [
        ""
      ],
      "execution_count": 16,
      "outputs": []
    },
    {
      "cell_type": "code",
      "metadata": {
        "id": "UfAg4OZl6m27"
      },
      "source": [
        "from PIL import Image\n",
        "import sys\n",
        "\n",
        "def processImage(infile):\n",
        "    try:\n",
        "        im = Image.open(infile)\n",
        "    except IOError:\n",
        "        print (\"Cant load\", infile)\n",
        "        sys.exit(1)\n",
        "    i = 0\n",
        "    mypalette = im.getpalette()\n",
        "    try:\n",
        "        while 1:\n",
        "            #im.putpalette(mypalette)\n",
        "            new_im = Image.new(\"RGBA\", im.size)\n",
        "            new_im.paste(im)\n",
        "            new_im.save(infile[:-4]+'.png')   \n",
        "            i += 1\n",
        "            im.seek(im.tell() + 1)\n",
        "            os.remove(infile)\n",
        "    except EOFError:\n",
        "        pass # end of sequence\n",
        "\n",
        "for i in range(112):\n",
        "  g=glob(paths[i]+'.gif')\n",
        "  for image_path in g:\n",
        "    processImage(image_path)"
      ],
      "execution_count": 19,
      "outputs": []
    },
    {
      "cell_type": "code",
      "metadata": {
        "id": "RK8TFcGx9k_9",
        "colab": {
          "base_uri": "https://localhost:8080/"
        },
        "outputId": "4d5f5e64-da3d-4c7c-da58-6052b656ae7f"
      },
      "source": [
        "image_path='D1-360'\n",
        "\n",
        "image = cv2.imread(image_path)\n",
        "type(image)\n",
        "#image = cv2.cvtColor(image, cv2.COLOR_BGR2RGB) # converting to RGB\n",
        "#images.append(image)\n",
        "#labels.append(0)\n"
      ],
      "execution_count": 18,
      "outputs": [
        {
          "output_type": "execute_result",
          "data": {
            "text/plain": [
              "NoneType"
            ]
          },
          "metadata": {},
          "execution_count": 18
        }
      ]
    },
    {
      "cell_type": "markdown",
      "metadata": {
        "id": "7Q_xilpCyd81"
      },
      "source": [
        "Making Directories"
      ]
    },
    {
      "cell_type": "code",
      "metadata": {
        "id": "3BE8n4w_2qdX"
      },
      "source": [
        "path = \"Class\"\n",
        "\n",
        "for i in range(1,113):\n",
        "  os.mkdir(path+str(i))\n"
      ],
      "execution_count": 21,
      "outputs": []
    },
    {
      "cell_type": "markdown",
      "metadata": {
        "id": "ZpN9JsjiycHI"
      },
      "source": [
        "Copy Pasting"
      ]
    },
    {
      "cell_type": "code",
      "metadata": {
        "id": "pOaN9sS0udHe"
      },
      "source": [
        "import shutil\n",
        "from PIL import Image\n",
        "for i in range(1,113):\n",
        "  shutil.copy('D'+str(i)+'.png', path+str(i)+'/')\n",
        "\n"
      ],
      "execution_count": 27,
      "outputs": []
    },
    {
      "cell_type": "markdown",
      "metadata": {
        "id": "DbV3EY3IxsV3"
      },
      "source": [
        "Deleting "
      ]
    },
    {
      "cell_type": "code",
      "metadata": {
        "id": "TwfXp_sGx8F9"
      },
      "source": [
        "for i in range(1,113):\n",
        "  os.remove('D'+str(i)+'.png')\n",
        "  os.remove('D'+str(i)+'.gif')"
      ],
      "execution_count": null,
      "outputs": []
    },
    {
      "cell_type": "markdown",
      "metadata": {
        "id": "Er-8eHcj2ixD"
      },
      "source": [
        "Angles"
      ]
    },
    {
      "cell_type": "code",
      "metadata": {
        "colab": {
          "base_uri": "https://localhost:8080/"
        },
        "id": "0Tt1HrIlyaWJ",
        "outputId": "64fe4cd7-e550-4fe0-acf4-ccdb952a228f"
      },
      "source": [
        "angles=[]\n",
        "for i in range(9,360,9):\n",
        "  angles.append(i)\n",
        "print(angles)\n",
        "print(len(angles))"
      ],
      "execution_count": 32,
      "outputs": [
        {
          "output_type": "stream",
          "name": "stdout",
          "text": [
            "[9, 18, 27, 36, 45, 54, 63, 72, 81, 90, 99, 108, 117, 126, 135, 144, 153, 162, 171, 180, 189, 198, 207, 216, 225, 234, 243, 252, 261, 270, 279, 288, 297, 306, 315, 324, 333, 342, 351]\n",
            "39\n"
          ]
        }
      ]
    },
    {
      "cell_type": "markdown",
      "metadata": {
        "id": "SnMwnaHP2gN8"
      },
      "source": [
        "Rotating and Saving"
      ]
    },
    {
      "cell_type": "code",
      "metadata": {
        "id": "cYKK8g8myaad"
      },
      "source": [
        "\n",
        "for i in range(1,113):\n",
        "  path='Class'+str(i)\n",
        "  img_path=path+'/D'+str(i)+'.png'\n",
        "  image=Image.open(img_path)\n",
        "  for angle in angles:\n",
        "    rotated= image.rotate(angle)\n",
        "    rotated=rotated.save(path+'/D'+str(i)+'-'+str(angle)+'.png')"
      ],
      "execution_count": 36,
      "outputs": []
    },
    {
      "cell_type": "markdown",
      "metadata": {
        "id": "ZclZf1FG7H36"
      },
      "source": [
        "Renaming"
      ]
    },
    {
      "cell_type": "code",
      "metadata": {
        "id": "MgtT9gtRyaeD"
      },
      "source": [
        "for i in range(1,113):\n",
        "  path='Class'+str(i)\n",
        "  img_path=path+'/D'+str(i)+'.png'\n",
        "  os.rename(img_path, path+'/D'+str(i)+'-360.png')"
      ],
      "execution_count": 37,
      "outputs": []
    },
    {
      "cell_type": "code",
      "metadata": {
        "id": "sfjmrLtH8MVc"
      },
      "source": [
        ""
      ],
      "execution_count": null,
      "outputs": []
    }
  ]
}